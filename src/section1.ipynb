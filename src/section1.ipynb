{
 "cells": [
  {
   "cell_type": "code",
   "execution_count": 2,
   "metadata": {
    "collapsed": true,
    "pycharm": {
     "name": "#%%\n"
    }
   },
   "outputs": [],
   "source": [
    "import pandas as pd"
   ]
  },
  {
   "cell_type": "code",
   "execution_count": 4,
   "outputs": [
    {
     "data": {
      "text/plain": "       name         city  age  py-score\n101  Xavier  Mexico City   41      88.0\n107    Nori        Osaka   37      84.0\n103    Jana       Prague   33      81.0\n104      Yi     Shanghai   34      80.0",
      "text/html": "<div>\n<style scoped>\n    .dataframe tbody tr th:only-of-type {\n        vertical-align: middle;\n    }\n\n    .dataframe tbody tr th {\n        vertical-align: top;\n    }\n\n    .dataframe thead th {\n        text-align: right;\n    }\n</style>\n<table border=\"1\" class=\"dataframe\">\n  <thead>\n    <tr style=\"text-align: right;\">\n      <th></th>\n      <th>name</th>\n      <th>city</th>\n      <th>age</th>\n      <th>py-score</th>\n    </tr>\n  </thead>\n  <tbody>\n    <tr>\n      <th>101</th>\n      <td>Xavier</td>\n      <td>Mexico City</td>\n      <td>41</td>\n      <td>88.0</td>\n    </tr>\n    <tr>\n      <th>107</th>\n      <td>Nori</td>\n      <td>Osaka</td>\n      <td>37</td>\n      <td>84.0</td>\n    </tr>\n    <tr>\n      <th>103</th>\n      <td>Jana</td>\n      <td>Prague</td>\n      <td>33</td>\n      <td>81.0</td>\n    </tr>\n    <tr>\n      <th>104</th>\n      <td>Yi</td>\n      <td>Shanghai</td>\n      <td>34</td>\n      <td>80.0</td>\n    </tr>\n  </tbody>\n</table>\n</div>"
     },
     "execution_count": 4,
     "metadata": {},
     "output_type": "execute_result"
    }
   ],
   "source": [
    "candidates = pd.read_csv(\"job_candidates.csv\", index_col=0)\n",
    "top_candidates = candidates[candidates[\"py-score\"] >= 80]\n",
    "top_candidates.sort_values(by=\"py-score\", ascending=False)"
   ],
   "metadata": {
    "collapsed": false,
    "pycharm": {
     "name": "#%%\n"
    }
   }
  },
  {
   "cell_type": "code",
   "execution_count": 3,
   "outputs": [],
   "source": [],
   "metadata": {
    "collapsed": false,
    "pycharm": {
     "name": "#%%\n"
    }
   }
  }
 ],
 "metadata": {
  "kernelspec": {
   "display_name": "Python 3",
   "language": "python",
   "name": "python3"
  },
  "language_info": {
   "codemirror_mode": {
    "name": "ipython",
    "version": 2
   },
   "file_extension": ".py",
   "mimetype": "text/x-python",
   "name": "python",
   "nbconvert_exporter": "python",
   "pygments_lexer": "ipython2",
   "version": "2.7.6"
  }
 },
 "nbformat": 4,
 "nbformat_minor": 0
}