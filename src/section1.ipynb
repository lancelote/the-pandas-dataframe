{
 "cells": [
  {
   "cell_type": "markdown",
   "source": [
    "# The Pandas DataFrame: Working With Data Efficiently"
   ],
   "metadata": {
    "collapsed": false
   }
  },
  {
   "cell_type": "code",
   "execution_count": 3,
   "outputs": [],
   "source": [
    "import pandas as pd"
   ],
   "metadata": {
    "collapsed": false
   }
  },
  {
   "cell_type": "code",
   "execution_count": 4,
   "outputs": [
    {
     "data": {
      "text/plain": "       name         city  age  py-score\n101  Xavier  Mexico City   41      88.0\n107    Nori        Osaka   37      84.0\n103    Jana       Prague   33      81.0\n104      Yi     Shanghai   34      80.0",
      "text/html": "<div>\n<style scoped>\n    .dataframe tbody tr th:only-of-type {\n        vertical-align: middle;\n    }\n\n    .dataframe tbody tr th {\n        vertical-align: top;\n    }\n\n    .dataframe thead th {\n        text-align: right;\n    }\n</style>\n<table border=\"1\" class=\"dataframe\">\n  <thead>\n    <tr style=\"text-align: right;\">\n      <th></th>\n      <th>name</th>\n      <th>city</th>\n      <th>age</th>\n      <th>py-score</th>\n    </tr>\n  </thead>\n  <tbody>\n    <tr>\n      <th>101</th>\n      <td>Xavier</td>\n      <td>Mexico City</td>\n      <td>41</td>\n      <td>88.0</td>\n    </tr>\n    <tr>\n      <th>107</th>\n      <td>Nori</td>\n      <td>Osaka</td>\n      <td>37</td>\n      <td>84.0</td>\n    </tr>\n    <tr>\n      <th>103</th>\n      <td>Jana</td>\n      <td>Prague</td>\n      <td>33</td>\n      <td>81.0</td>\n    </tr>\n    <tr>\n      <th>104</th>\n      <td>Yi</td>\n      <td>Shanghai</td>\n      <td>34</td>\n      <td>80.0</td>\n    </tr>\n  </tbody>\n</table>\n</div>"
     },
     "execution_count": 4,
     "metadata": {},
     "output_type": "execute_result"
    }
   ],
   "source": [
    "candidates = pd.read_csv(\"job_candidates.csv\", index_col=0)\n",
    "top_candidates = candidates[candidates[\"py-score\"] >= 80]\n",
    "top_candidates.sort_values(by=\"py-score\", ascending=False)"
   ],
   "metadata": {
    "collapsed": false
   }
  },
  {
   "cell_type": "code",
   "execution_count": 5,
   "outputs": [
    {
     "data": {
      "text/plain": "       name         city  age  py-score\n101  Xavier  Mexico City   41      88.0\n102     Ann      Toronto   28      79.0\n103    Jana       Prague   33      81.0\n104      Yi     Shanghai   34      80.0\n105   Robin   Manchester   38      68.0\n106    Amal        Cairo   31      61.0\n107    Nori        Osaka   37      84.0",
      "text/html": "<div>\n<style scoped>\n    .dataframe tbody tr th:only-of-type {\n        vertical-align: middle;\n    }\n\n    .dataframe tbody tr th {\n        vertical-align: top;\n    }\n\n    .dataframe thead th {\n        text-align: right;\n    }\n</style>\n<table border=\"1\" class=\"dataframe\">\n  <thead>\n    <tr style=\"text-align: right;\">\n      <th></th>\n      <th>name</th>\n      <th>city</th>\n      <th>age</th>\n      <th>py-score</th>\n    </tr>\n  </thead>\n  <tbody>\n    <tr>\n      <th>101</th>\n      <td>Xavier</td>\n      <td>Mexico City</td>\n      <td>41</td>\n      <td>88.0</td>\n    </tr>\n    <tr>\n      <th>102</th>\n      <td>Ann</td>\n      <td>Toronto</td>\n      <td>28</td>\n      <td>79.0</td>\n    </tr>\n    <tr>\n      <th>103</th>\n      <td>Jana</td>\n      <td>Prague</td>\n      <td>33</td>\n      <td>81.0</td>\n    </tr>\n    <tr>\n      <th>104</th>\n      <td>Yi</td>\n      <td>Shanghai</td>\n      <td>34</td>\n      <td>80.0</td>\n    </tr>\n    <tr>\n      <th>105</th>\n      <td>Robin</td>\n      <td>Manchester</td>\n      <td>38</td>\n      <td>68.0</td>\n    </tr>\n    <tr>\n      <th>106</th>\n      <td>Amal</td>\n      <td>Cairo</td>\n      <td>31</td>\n      <td>61.0</td>\n    </tr>\n    <tr>\n      <th>107</th>\n      <td>Nori</td>\n      <td>Osaka</td>\n      <td>37</td>\n      <td>84.0</td>\n    </tr>\n  </tbody>\n</table>\n</div>"
     },
     "execution_count": 5,
     "metadata": {},
     "output_type": "execute_result"
    }
   ],
   "source": [
    "candidates"
   ],
   "metadata": {
    "collapsed": false
   }
  },
  {
   "cell_type": "code",
   "execution_count": 6,
   "outputs": [],
   "source": [
    "data = {\n",
    "    'name': ['Xavier', 'Ann', 'Jana', 'Yi', 'Robin', 'Amal', 'Nori'],\n",
    "    'city': ['Mexico City', 'Toronto', 'Prague', 'Shanghai',\n",
    "             'Manchester', 'Cairo', 'Osaka'],\n",
    "    'age': [41, 28, 33, 34, 38, 31, 37],\n",
    "    'py-score': [88.0, 79.0, 81.0, 80.0, 68.0, 61.0, 84.0]\n",
    "}\n",
    "index = range(101, 108)"
   ],
   "metadata": {
    "collapsed": false
   }
  },
  {
   "cell_type": "code",
   "execution_count": 8,
   "outputs": [],
   "source": [
    "df = pd.DataFrame(data, index=index)"
   ],
   "metadata": {
    "collapsed": false
   }
  },
  {
   "cell_type": "code",
   "execution_count": 9,
   "outputs": [
    {
     "data": {
      "text/plain": "pandas.core.frame.DataFrame"
     },
     "execution_count": 9,
     "metadata": {},
     "output_type": "execute_result"
    }
   ],
   "source": [
    "type(df)"
   ],
   "metadata": {
    "collapsed": false
   }
  },
  {
   "cell_type": "code",
   "execution_count": 10,
   "outputs": [
    {
     "data": {
      "text/plain": "RangeIndex(start=101, stop=108, step=1)"
     },
     "execution_count": 10,
     "metadata": {},
     "output_type": "execute_result"
    }
   ],
   "source": [
    "df.index"
   ],
   "metadata": {
    "collapsed": false
   }
  },
  {
   "cell_type": "code",
   "execution_count": 11,
   "outputs": [
    {
     "data": {
      "text/plain": "Index(['name', 'city', 'age', 'py-score'], dtype='object')"
     },
     "execution_count": 11,
     "metadata": {},
     "output_type": "execute_result"
    }
   ],
   "source": [
    "df.columns"
   ],
   "metadata": {
    "collapsed": false
   }
  },
  {
   "cell_type": "code",
   "execution_count": 13,
   "outputs": [
    {
     "data": {
      "text/plain": "pandas.core.indexes.base.Index"
     },
     "execution_count": 13,
     "metadata": {},
     "output_type": "execute_result"
    }
   ],
   "source": [
    "type(df.columns)"
   ],
   "metadata": {
    "collapsed": false
   }
  },
  {
   "cell_type": "code",
   "execution_count": 14,
   "outputs": [
    {
     "data": {
      "text/plain": "       name         city  age  py-score\n101  Xavier  Mexico City   41      88.0\n102     Ann      Toronto   28      79.0\n103    Jana       Prague   33      81.0\n104      Yi     Shanghai   34      80.0\n105   Robin   Manchester   38      68.0",
      "text/html": "<div>\n<style scoped>\n    .dataframe tbody tr th:only-of-type {\n        vertical-align: middle;\n    }\n\n    .dataframe tbody tr th {\n        vertical-align: top;\n    }\n\n    .dataframe thead th {\n        text-align: right;\n    }\n</style>\n<table border=\"1\" class=\"dataframe\">\n  <thead>\n    <tr style=\"text-align: right;\">\n      <th></th>\n      <th>name</th>\n      <th>city</th>\n      <th>age</th>\n      <th>py-score</th>\n    </tr>\n  </thead>\n  <tbody>\n    <tr>\n      <th>101</th>\n      <td>Xavier</td>\n      <td>Mexico City</td>\n      <td>41</td>\n      <td>88.0</td>\n    </tr>\n    <tr>\n      <th>102</th>\n      <td>Ann</td>\n      <td>Toronto</td>\n      <td>28</td>\n      <td>79.0</td>\n    </tr>\n    <tr>\n      <th>103</th>\n      <td>Jana</td>\n      <td>Prague</td>\n      <td>33</td>\n      <td>81.0</td>\n    </tr>\n    <tr>\n      <th>104</th>\n      <td>Yi</td>\n      <td>Shanghai</td>\n      <td>34</td>\n      <td>80.0</td>\n    </tr>\n    <tr>\n      <th>105</th>\n      <td>Robin</td>\n      <td>Manchester</td>\n      <td>38</td>\n      <td>68.0</td>\n    </tr>\n  </tbody>\n</table>\n</div>"
     },
     "execution_count": 14,
     "metadata": {},
     "output_type": "execute_result"
    }
   ],
   "source": [
    "df.head()"
   ],
   "metadata": {
    "collapsed": false
   }
  },
  {
   "cell_type": "code",
   "execution_count": 15,
   "outputs": [
    {
     "data": {
      "text/plain": "       name         city  age  py-score\n101  Xavier  Mexico City   41      88.0\n102     Ann      Toronto   28      79.0\n103    Jana       Prague   33      81.0",
      "text/html": "<div>\n<style scoped>\n    .dataframe tbody tr th:only-of-type {\n        vertical-align: middle;\n    }\n\n    .dataframe tbody tr th {\n        vertical-align: top;\n    }\n\n    .dataframe thead th {\n        text-align: right;\n    }\n</style>\n<table border=\"1\" class=\"dataframe\">\n  <thead>\n    <tr style=\"text-align: right;\">\n      <th></th>\n      <th>name</th>\n      <th>city</th>\n      <th>age</th>\n      <th>py-score</th>\n    </tr>\n  </thead>\n  <tbody>\n    <tr>\n      <th>101</th>\n      <td>Xavier</td>\n      <td>Mexico City</td>\n      <td>41</td>\n      <td>88.0</td>\n    </tr>\n    <tr>\n      <th>102</th>\n      <td>Ann</td>\n      <td>Toronto</td>\n      <td>28</td>\n      <td>79.0</td>\n    </tr>\n    <tr>\n      <th>103</th>\n      <td>Jana</td>\n      <td>Prague</td>\n      <td>33</td>\n      <td>81.0</td>\n    </tr>\n  </tbody>\n</table>\n</div>"
     },
     "execution_count": 15,
     "metadata": {},
     "output_type": "execute_result"
    }
   ],
   "source": [
    "df.head(3)"
   ],
   "metadata": {
    "collapsed": false
   }
  },
  {
   "cell_type": "code",
   "execution_count": null,
   "outputs": [],
   "source": [],
   "metadata": {
    "collapsed": false
   }
  }
 ],
 "metadata": {
  "kernelspec": {
   "display_name": "Python 3",
   "language": "python",
   "name": "python3"
  },
  "language_info": {
   "codemirror_mode": {
    "name": "ipython",
    "version": 2
   },
   "file_extension": ".py",
   "mimetype": "text/x-python",
   "name": "python",
   "nbconvert_exporter": "python",
   "pygments_lexer": "ipython2",
   "version": "2.7.6"
  }
 },
 "nbformat": 4,
 "nbformat_minor": 0
}
